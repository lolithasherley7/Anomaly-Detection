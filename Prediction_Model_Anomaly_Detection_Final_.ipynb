{
  "cells": [
    {
      "cell_type": "code",
      "execution_count": null,
      "metadata": {
        "id": "6fb4dc4c"
      },
      "outputs": [],
      "source": [
        "#By intern Lolitha for SHMT internship"
      ],
      "id": "6fb4dc4c"
    },
    {
      "cell_type": "code",
      "execution_count": null,
      "metadata": {
        "id": "f9d3f582"
      },
      "outputs": [],
      "source": [
        "import pandas as pd # data processing\n",
        "import numpy as np # working with arrays\n",
        "import matplotlib.pyplot as plt # visualization\n",
        "from termcolor import colored as cl # text customization\n",
        "import itertools # advanced tools"
      ],
      "id": "f9d3f582"
    },
    {
      "cell_type": "code",
      "source": [
        "from sklearn.preprocessing import StandardScaler # data normalization\n",
        "from sklearn.model_selection import train_test_split # data split\n",
        "from sklearn.tree import DecisionTreeClassifier # Decision tree algorithm\n",
        "from sklearn.neighbors import KNeighborsClassifier # KNN algorithm\n",
        "from sklearn.linear_model import LogisticRegression # Logistic regression algorithm\n",
        "from sklearn.svm import SVC # SVM algorithm\n",
        "from sklearn.ensemble import RandomForestClassifier # Random forest tree algorithm\n",
        "from xgboost import XGBClassifier # XGBoost algorithm\n",
        "from sklearn.metrics import confusion_matrix,classification_report,accuracy_score #Evaluation Metrics"
      ],
      "metadata": {
        "id": "-378wPIuDKbJ"
      },
      "id": "-378wPIuDKbJ",
      "execution_count": null,
      "outputs": []
    },
    {
      "cell_type": "code",
      "execution_count": null,
      "metadata": {
        "id": "mhA75PIYy1yI",
        "colab": {
          "base_uri": "https://localhost:8080/"
        },
        "outputId": "2d52d671-4abc-495b-d5c1-2dfcb22c41da"
      },
      "outputs": [
        {
          "output_type": "stream",
          "name": "stdout",
          "text": [
            "Mounted at /content/drive\n"
          ]
        }
      ],
      "source": [
        "from google.colab import drive\n",
        "drive.mount('/content/drive')"
      ],
      "id": "mhA75PIYy1yI"
    },
    {
      "cell_type": "code",
      "execution_count": null,
      "metadata": {
        "id": "246006a8",
        "colab": {
          "base_uri": "https://localhost:8080/",
          "height": 206
        },
        "outputId": "d8e02e0e-f6ad-4088-c069-aab7bec2400d"
      },
      "outputs": [
        {
          "output_type": "execute_result",
          "data": {
            "text/html": [
              "\n",
              "  <div id=\"df-b345a7fe-0197-47b7-8693-4b0a7aeaaa1c\">\n",
              "    <div class=\"colab-df-container\">\n",
              "      <div>\n",
              "<style scoped>\n",
              "    .dataframe tbody tr th:only-of-type {\n",
              "        vertical-align: middle;\n",
              "    }\n",
              "\n",
              "    .dataframe tbody tr th {\n",
              "        vertical-align: top;\n",
              "    }\n",
              "\n",
              "    .dataframe thead th {\n",
              "        text-align: right;\n",
              "    }\n",
              "</style>\n",
              "<table border=\"1\" class=\"dataframe\">\n",
              "  <thead>\n",
              "    <tr style=\"text-align: right;\">\n",
              "      <th></th>\n",
              "      <th>step</th>\n",
              "      <th>type</th>\n",
              "      <th>amount</th>\n",
              "      <th>nameOrig</th>\n",
              "      <th>oldbalanceOrg</th>\n",
              "      <th>newbalanceOrig</th>\n",
              "      <th>nameDest</th>\n",
              "      <th>oldbalanceDest</th>\n",
              "      <th>newbalanceDest</th>\n",
              "      <th>isFraud</th>\n",
              "      <th>isFlaggedFraud</th>\n",
              "    </tr>\n",
              "  </thead>\n",
              "  <tbody>\n",
              "    <tr>\n",
              "      <th>0</th>\n",
              "      <td>1</td>\n",
              "      <td>PAYMENT</td>\n",
              "      <td>9839.64</td>\n",
              "      <td>C1231006815</td>\n",
              "      <td>170136.0</td>\n",
              "      <td>160296.36</td>\n",
              "      <td>M1979787155</td>\n",
              "      <td>0.0</td>\n",
              "      <td>0.0</td>\n",
              "      <td>0</td>\n",
              "      <td>0</td>\n",
              "    </tr>\n",
              "    <tr>\n",
              "      <th>1</th>\n",
              "      <td>1</td>\n",
              "      <td>PAYMENT</td>\n",
              "      <td>1864.28</td>\n",
              "      <td>C1666544295</td>\n",
              "      <td>21249.0</td>\n",
              "      <td>19384.72</td>\n",
              "      <td>M2044282225</td>\n",
              "      <td>0.0</td>\n",
              "      <td>0.0</td>\n",
              "      <td>0</td>\n",
              "      <td>0</td>\n",
              "    </tr>\n",
              "    <tr>\n",
              "      <th>2</th>\n",
              "      <td>1</td>\n",
              "      <td>TRANSFER</td>\n",
              "      <td>181.00</td>\n",
              "      <td>C1305486145</td>\n",
              "      <td>181.0</td>\n",
              "      <td>0.00</td>\n",
              "      <td>C553264065</td>\n",
              "      <td>0.0</td>\n",
              "      <td>0.0</td>\n",
              "      <td>1</td>\n",
              "      <td>0</td>\n",
              "    </tr>\n",
              "    <tr>\n",
              "      <th>3</th>\n",
              "      <td>1</td>\n",
              "      <td>CASH_OUT</td>\n",
              "      <td>181.00</td>\n",
              "      <td>C840083671</td>\n",
              "      <td>181.0</td>\n",
              "      <td>0.00</td>\n",
              "      <td>C38997010</td>\n",
              "      <td>21182.0</td>\n",
              "      <td>0.0</td>\n",
              "      <td>1</td>\n",
              "      <td>0</td>\n",
              "    </tr>\n",
              "    <tr>\n",
              "      <th>4</th>\n",
              "      <td>1</td>\n",
              "      <td>PAYMENT</td>\n",
              "      <td>11668.14</td>\n",
              "      <td>C2048537720</td>\n",
              "      <td>41554.0</td>\n",
              "      <td>29885.86</td>\n",
              "      <td>M1230701703</td>\n",
              "      <td>0.0</td>\n",
              "      <td>0.0</td>\n",
              "      <td>0</td>\n",
              "      <td>0</td>\n",
              "    </tr>\n",
              "  </tbody>\n",
              "</table>\n",
              "</div>\n",
              "      <button class=\"colab-df-convert\" onclick=\"convertToInteractive('df-b345a7fe-0197-47b7-8693-4b0a7aeaaa1c')\"\n",
              "              title=\"Convert this dataframe to an interactive table.\"\n",
              "              style=\"display:none;\">\n",
              "        \n",
              "  <svg xmlns=\"http://www.w3.org/2000/svg\" height=\"24px\"viewBox=\"0 0 24 24\"\n",
              "       width=\"24px\">\n",
              "    <path d=\"M0 0h24v24H0V0z\" fill=\"none\"/>\n",
              "    <path d=\"M18.56 5.44l.94 2.06.94-2.06 2.06-.94-2.06-.94-.94-2.06-.94 2.06-2.06.94zm-11 1L8.5 8.5l.94-2.06 2.06-.94-2.06-.94L8.5 2.5l-.94 2.06-2.06.94zm10 10l.94 2.06.94-2.06 2.06-.94-2.06-.94-.94-2.06-.94 2.06-2.06.94z\"/><path d=\"M17.41 7.96l-1.37-1.37c-.4-.4-.92-.59-1.43-.59-.52 0-1.04.2-1.43.59L10.3 9.45l-7.72 7.72c-.78.78-.78 2.05 0 2.83L4 21.41c.39.39.9.59 1.41.59.51 0 1.02-.2 1.41-.59l7.78-7.78 2.81-2.81c.8-.78.8-2.07 0-2.86zM5.41 20L4 18.59l7.72-7.72 1.47 1.35L5.41 20z\"/>\n",
              "  </svg>\n",
              "      </button>\n",
              "      \n",
              "  <style>\n",
              "    .colab-df-container {\n",
              "      display:flex;\n",
              "      flex-wrap:wrap;\n",
              "      gap: 12px;\n",
              "    }\n",
              "\n",
              "    .colab-df-convert {\n",
              "      background-color: #E8F0FE;\n",
              "      border: none;\n",
              "      border-radius: 50%;\n",
              "      cursor: pointer;\n",
              "      display: none;\n",
              "      fill: #1967D2;\n",
              "      height: 32px;\n",
              "      padding: 0 0 0 0;\n",
              "      width: 32px;\n",
              "    }\n",
              "\n",
              "    .colab-df-convert:hover {\n",
              "      background-color: #E2EBFA;\n",
              "      box-shadow: 0px 1px 2px rgba(60, 64, 67, 0.3), 0px 1px 3px 1px rgba(60, 64, 67, 0.15);\n",
              "      fill: #174EA6;\n",
              "    }\n",
              "\n",
              "    [theme=dark] .colab-df-convert {\n",
              "      background-color: #3B4455;\n",
              "      fill: #D2E3FC;\n",
              "    }\n",
              "\n",
              "    [theme=dark] .colab-df-convert:hover {\n",
              "      background-color: #434B5C;\n",
              "      box-shadow: 0px 1px 3px 1px rgba(0, 0, 0, 0.15);\n",
              "      filter: drop-shadow(0px 1px 2px rgba(0, 0, 0, 0.3));\n",
              "      fill: #FFFFFF;\n",
              "    }\n",
              "  </style>\n",
              "\n",
              "      <script>\n",
              "        const buttonEl =\n",
              "          document.querySelector('#df-b345a7fe-0197-47b7-8693-4b0a7aeaaa1c button.colab-df-convert');\n",
              "        buttonEl.style.display =\n",
              "          google.colab.kernel.accessAllowed ? 'block' : 'none';\n",
              "\n",
              "        async function convertToInteractive(key) {\n",
              "          const element = document.querySelector('#df-b345a7fe-0197-47b7-8693-4b0a7aeaaa1c');\n",
              "          const dataTable =\n",
              "            await google.colab.kernel.invokeFunction('convertToInteractive',\n",
              "                                                     [key], {});\n",
              "          if (!dataTable) return;\n",
              "\n",
              "          const docLinkHtml = 'Like what you see? Visit the ' +\n",
              "            '<a target=\"_blank\" href=https://colab.research.google.com/notebooks/data_table.ipynb>data table notebook</a>'\n",
              "            + ' to learn more about interactive tables.';\n",
              "          element.innerHTML = '';\n",
              "          dataTable['output_type'] = 'display_data';\n",
              "          await google.colab.output.renderOutput(dataTable, element);\n",
              "          const docLink = document.createElement('div');\n",
              "          docLink.innerHTML = docLinkHtml;\n",
              "          element.appendChild(docLink);\n",
              "        }\n",
              "      </script>\n",
              "    </div>\n",
              "  </div>\n",
              "  "
            ],
            "text/plain": [
              "   step      type    amount  ... newbalanceDest  isFraud  isFlaggedFraud\n",
              "0     1   PAYMENT   9839.64  ...            0.0        0               0\n",
              "1     1   PAYMENT   1864.28  ...            0.0        0               0\n",
              "2     1  TRANSFER    181.00  ...            0.0        1               0\n",
              "3     1  CASH_OUT    181.00  ...            0.0        1               0\n",
              "4     1   PAYMENT  11668.14  ...            0.0        0               0\n",
              "\n",
              "[5 rows x 11 columns]"
            ]
          },
          "metadata": {},
          "execution_count": 5
        }
      ],
      "source": [
        "df=pd.read_csv(\"/content/drive/MyDrive/SHMT/FD/Fraud.csv\")\n",
        "\n",
        "df.head()\n"
      ],
      "id": "246006a8"
    },
    {
      "cell_type": "code",
      "execution_count": null,
      "metadata": {
        "id": "fW6XKIbZhP1h"
      },
      "outputs": [],
      "source": [
        "#Dropping all the unnecessary columns\n",
        "df=df.drop(['type','nameOrig','nameDest'],axis=1)\n"
      ],
      "id": "fW6XKIbZhP1h"
    },
    {
      "cell_type": "code",
      "execution_count": null,
      "metadata": {
        "id": "fe6eb49d",
        "colab": {
          "base_uri": "https://localhost:8080/"
        },
        "outputId": "8882f90f-ac10-4c90-9364-974a4f7640ae"
      },
      "outputs": [
        {
          "output_type": "stream",
          "name": "stdout",
          "text": [
            "<class 'pandas.core.frame.DataFrame'>\n",
            "RangeIndex: 1048575 entries, 0 to 1048574\n",
            "Data columns (total 8 columns):\n",
            " #   Column          Non-Null Count    Dtype  \n",
            "---  ------          --------------    -----  \n",
            " 0   step            1048575 non-null  int64  \n",
            " 1   amount          1048575 non-null  float64\n",
            " 2   oldbalanceOrg   1048575 non-null  float64\n",
            " 3   newbalanceOrig  1048575 non-null  float64\n",
            " 4   oldbalanceDest  1048575 non-null  float64\n",
            " 5   newbalanceDest  1048575 non-null  float64\n",
            " 6   isFraud         1048575 non-null  int64  \n",
            " 7   isFlaggedFraud  1048575 non-null  int64  \n",
            "dtypes: float64(5), int64(3)\n",
            "memory usage: 64.0 MB\n"
          ]
        }
      ],
      "source": [
        "df.info()"
      ],
      "id": "fe6eb49d"
    },
    {
      "cell_type": "code",
      "execution_count": null,
      "metadata": {
        "id": "9dc8fd95",
        "colab": {
          "base_uri": "https://localhost:8080/"
        },
        "outputId": "b0e6d8af-5956-4e2a-d40c-05d11d7418a3"
      },
      "outputs": [
        {
          "output_type": "execute_result",
          "data": {
            "text/plain": [
              "step                int64\n",
              "amount            float64\n",
              "oldbalanceOrg     float64\n",
              "newbalanceOrig    float64\n",
              "oldbalanceDest    float64\n",
              "newbalanceDest    float64\n",
              "isFraud             int64\n",
              "isFlaggedFraud      int64\n",
              "dtype: object"
            ]
          },
          "metadata": {},
          "execution_count": 8
        }
      ],
      "source": [
        "df.dtypes"
      ],
      "id": "9dc8fd95"
    },
    {
      "cell_type": "markdown",
      "metadata": {
        "id": "7a201327"
      },
      "source": [
        "### Exploratory Data Analysis"
      ],
      "id": "7a201327"
    },
    {
      "cell_type": "code",
      "execution_count": null,
      "metadata": {
        "id": "55492ae1",
        "colab": {
          "base_uri": "https://localhost:8080/"
        },
        "outputId": "5fb5b9f8-b6d5-4bda-862e-4cfb60b575d6"
      },
      "outputs": [
        {
          "output_type": "execute_result",
          "data": {
            "text/plain": [
              "step              0\n",
              "amount            0\n",
              "oldbalanceOrg     0\n",
              "newbalanceOrig    0\n",
              "oldbalanceDest    0\n",
              "newbalanceDest    0\n",
              "isFraud           0\n",
              "isFlaggedFraud    0\n",
              "dtype: int64"
            ]
          },
          "metadata": {},
          "execution_count": 9
        }
      ],
      "source": [
        "df.isnull().sum()"
      ],
      "id": "55492ae1"
    },
    {
      "cell_type": "code",
      "execution_count": null,
      "metadata": {
        "id": "6f7e645a",
        "colab": {
          "base_uri": "https://localhost:8080/"
        },
        "outputId": "37a58d10-34de-4eac-c727-791ab64c0768"
      },
      "outputs": [
        {
          "output_type": "stream",
          "name": "stdout",
          "text": [
            "(1142, 8)\n",
            "(1047433, 8)\n"
          ]
        }
      ],
      "source": [
        "#Getting fraud and n normal dataset\n",
        "fraud=df[df['isFraud']==1]\n",
        "valid=df[df['isFraud']==0]\n",
        "print(fraud.shape)\n",
        "print(valid.shape)"
      ],
      "id": "6f7e645a"
    },
    {
      "cell_type": "code",
      "execution_count": null,
      "metadata": {
        "id": "27dd4b4e",
        "colab": {
          "base_uri": "https://localhost:8080/",
          "height": 1000
        },
        "outputId": "b2d0e754-880f-44f5-a732-8a4dc3a17927"
      },
      "outputs": [
        {
          "output_type": "display_data",
          "data": {
            "image/png": "[encoded data removed]",
            "text/plain": [
              "<Figure size 1440x1440 with 2 Axes>"
            ]
          },
          "metadata": {
            "needs_background": "light"
          }
        }
      ],
      "source": [
        "##Correlation\n",
        "#get correlations of reach feature in dataset\n",
        "cm=df.corr()\n",
        "top_corr_features=cm.index\n",
        "plt.figure(figsize=(20,20))\n",
        "#Plot heat map\n",
        "g=sns.heatmap(df[top_corr_features].corr(),annot=True, cmap=\"RdYlGn\")"
      ],
      "id": "27dd4b4e"
    },
    {
      "cell_type": "code",
      "execution_count": null,
      "metadata": {
        "id": "01c47295",
        "scrolled": false,
        "colab": {
          "base_uri": "https://localhost:8080/",
          "height": 313
        },
        "outputId": "0b8645df-8d3e-4a38-9030-6e5d9bdb6ccd"
      },
      "outputs": [
        {
          "output_type": "execute_result",
          "data": {
            "text/plain": [
              "(0.0, 800000.0)"
            ]
          },
          "metadata": {},
          "execution_count": 11
        },
        {
          "output_type": "display_data",
          "data": {
            "image/png": "[encoded data removed]",
            "text/plain": [
              "<Figure size 432x288 with 1 Axes>"
            ]
          },
          "metadata": {
            "needs_background": "light"
          }
        }
      ],
      "source": [
        "\n",
        "\n",
        "LABELS=['valid','fraud']\n",
        "fraud_types=pd.value_counts(df['isFraud'],sort=True)\n",
        "fraud_types.plot(kind='bar',rot=1)\n",
        "\n",
        "plt.title(\"Transaction Classification\")\n",
        "plt.xticks(range(2),LABELS)\n",
        "plt.xlabel('isFraud')\n",
        "plt.ylabel(\"Frequency\")\n",
        "plt.ylim(0,800000)\n",
        "\n",
        "\n"
      ],
      "id": "01c47295"
    },
    {
      "cell_type": "code",
      "source": [
        "#We can observe that the genuine transactions are over 99%! This is not good.\n",
        "#Let’s apply scaling techniques on the “Amount” feature to transform the range of values. We drop the original “Amount” column and add a new column with the scaled values. "
      ],
      "metadata": {
        "id": "VQRCMhdO94Wy"
      },
      "id": "VQRCMhdO94Wy",
      "execution_count": null,
      "outputs": []
    },
    {
      "cell_type": "code",
      "source": [
        "\n",
        "sc = StandardScaler()\n",
        "amount = df['amount'].values\n",
        "\n",
        "df['NormalizedAmount'] = sc.fit_transform(amount.reshape(-1, 1))\n",
        "\n",
        "print(cl(df['NormalizedAmount'].head(10), attrs = ['bold']))\n",
        "\n"
      ],
      "metadata": {
        "id": "5b1zG0X1-DpR",
        "colab": {
          "base_uri": "https://localhost:8080/"
        },
        "outputId": "e6c25fbd-1189-46a6-d71c-d9a45893af71"
      },
      "id": "5b1zG0X1-DpR",
      "execution_count": null,
      "outputs": [
        {
          "output_type": "stream",
          "name": "stdout",
          "text": [
            "\u001b[1m0   -0.561738\n",
            "1   -0.591840\n",
            "2   -0.598194\n",
            "3   -0.598194\n",
            "4   -0.554837\n",
            "5   -0.569370\n",
            "6   -0.572049\n",
            "7   -0.569204\n",
            "8   -0.583687\n",
            "9   -0.578730\n",
            "Name: NormalizedAmount, dtype: float64\u001b[0m\n"
          ]
        }
      ]
    },
    {
      "cell_type": "code",
      "execution_count": null,
      "metadata": {
        "id": "ba16f33e",
        "colab": {
          "base_uri": "https://localhost:8080/"
        },
        "outputId": "db74f3d6-d645-4289-fc95-82d2521b695d"
      },
      "outputs": [
        {
          "output_type": "stream",
          "name": "stdout",
          "text": [
            "0    1047433\n",
            "1       1142\n",
            "Name: isFraud, dtype: int64\n"
          ]
        }
      ],
      "source": [
        "print(fraud_types)"
      ],
      "id": "ba16f33e"
    },
    {
      "cell_type": "code",
      "execution_count": null,
      "metadata": {
        "id": "cbd87e59",
        "colab": {
          "base_uri": "https://localhost:8080/"
        },
        "outputId": "63abbaa9-f086-45d5-f66b-caf80ed7ef4b"
      },
      "outputs": [
        {
          "output_type": "execute_result",
          "data": {
            "text/plain": [
              "count    1.142000e+03\n",
              "mean     1.192629e+06\n",
              "std      2.030599e+06\n",
              "min      1.190000e+02\n",
              "25%      8.607017e+04\n",
              "50%      3.531794e+05\n",
              "75%      1.248759e+06\n",
              "max      1.000000e+07\n",
              "Name: amount, dtype: float64"
            ]
          },
          "metadata": {},
          "execution_count": 15
        }
      ],
      "source": [
        "#Fraud Case Amount statistics\n",
        "fraud.amount.describe()"
      ],
      "id": "cbd87e59"
    },
    {
      "cell_type": "code",
      "execution_count": null,
      "metadata": {
        "id": "c8abd000",
        "colab": {
          "base_uri": "https://localhost:8080/"
        },
        "outputId": "cc90c7ab-b213-40d4-cb3a-59d9b8caf985"
      },
      "outputs": [
        {
          "output_type": "execute_result",
          "data": {
            "text/plain": [
              "count    1.047433e+06\n",
              "mean     1.575397e+05\n",
              "std      2.541883e+05\n",
              "min      1.000000e-01\n",
              "25%      1.213487e+04\n",
              "50%      7.621497e+04\n",
              "75%      2.134928e+05\n",
              "max      6.419835e+06\n",
              "Name: amount, dtype: float64"
            ]
          },
          "metadata": {},
          "execution_count": 16
        }
      ],
      "source": [
        "#Non Fraud Case Amount statistics\n",
        "valid.amount.describe()"
      ],
      "id": "c8abd000"
    },
    {
      "cell_type": "code",
      "execution_count": null,
      "metadata": {
        "id": "1e04b5b6",
        "colab": {
          "base_uri": "https://localhost:8080/",
          "height": 308
        },
        "outputId": "4ebe4b8b-6780-4c3b-8325-e844b42e948a"
      },
      "outputs": [
        {
          "output_type": "display_data",
          "data": {
            "image/png": "[encoded data removed]",
            "text/plain": [
              "<Figure size 432x288 with 2 Axes>"
            ]
          },
          "metadata": {
            "needs_background": "light"
          }
        }
      ],
      "source": [
        "f, (ax1,ax2)=plt.subplots(2,1,sharex=True)\n",
        "f.suptitle('Amount per transaction')\n",
        "bins=50\n",
        "ax1.hist(fraud.amount,bins=bins)\n",
        "ax1.set_title('Fraud')\n",
        "ax2.hist(valid.amount,bins=bins)\n",
        "ax2.set_title(\"Valid\")\n",
        "plt.xlabel('Amount(Rs)')\n",
        "plt.ylabel('Number of Transactions')\n",
        "plt.xlim(0,10000000)\n",
        "plt.yscale('log')\n",
        "plt.show();"
      ],
      "id": "1e04b5b6"
    },
    {
      "cell_type": "code",
      "execution_count": null,
      "metadata": {
        "id": "71c7ed0a",
        "colab": {
          "base_uri": "https://localhost:8080/"
        },
        "outputId": "32d63e5d-e21a-4a84-9619-3a3019901af0"
      },
      "outputs": [
        {
          "output_type": "execute_result",
          "data": {
            "text/plain": [
              "(104858, 9)"
            ]
          },
          "metadata": {},
          "execution_count": 18
        }
      ],
      "source": [
        "## Take some sample of the data\n",
        "\n",
        "df1= df.sample(frac = 0.1,random_state=1)\n",
        "\n",
        "df1.shape"
      ],
      "id": "71c7ed0a"
    },
    {
      "cell_type": "code",
      "execution_count": null,
      "metadata": {
        "id": "eb7b2ba2",
        "colab": {
          "base_uri": "https://localhost:8080/"
        },
        "outputId": "b5fb211f-a5d3-4e76-d5d7-1dced6fa279b"
      },
      "outputs": [
        {
          "output_type": "stream",
          "name": "stdout",
          "text": [
            "Outlier_fraction:0.0010902845337124188\n",
            "Fraud Cases :1142\n",
            "Valid Cases : 1047433\n"
          ]
        }
      ],
      "source": [
        "\n",
        "outlier_fraction=len(fraud)/float(len(valid))\n",
        "print('Outlier_fraction:{}'.format(outlier_fraction))\n",
        "print('Fraud Cases :{}'.format(len(fraud)))\n",
        "print(\"Valid Cases : {}\".format(len(valid)))"
      ],
      "id": "eb7b2ba2"
    },
    {
      "cell_type": "markdown",
      "source": [
        "**Feature Selection & Data Split**\n",
        "\n",
        "\n",
        "\n",
        "> Indented block\n",
        "\n",
        "\n",
        "\n",
        "In this process, we are going to define the independent (X) and the dependent variables (Y). Using the defined variables, we will split the data into a training set and testing set which is further used for modeling and evaluating. We can split the data easily using the ‘train_test_split’ algorithm in python."
      ],
      "metadata": {
        "id": "FHwFcrz1Flha"
      },
      "id": "FHwFcrz1Flha"
    },
    {
      "cell_type": "code",
      "source": [
        "# DATA SPLIT\n",
        "\n",
        "X = df.drop('isFraud', axis = 1).values\n",
        "y = df['isFraud'].values\n",
        "\n",
        "#Train test split\n",
        "X_train, X_test, y_train, y_test = train_test_split(X, y, test_size = 0.2, random_state = 0)\n",
        "\n"
      ],
      "metadata": {
        "id": "O5Ji513qXiZB"
      },
      "id": "O5Ji513qXiZB",
      "execution_count": null,
      "outputs": []
    },
    {
      "cell_type": "markdown",
      "source": [
        "**Modeling**\n",
        "\n",
        "> Indented block\n",
        "\n",
        "> Indented block\n",
        "\n",
        "\n",
        "\n",
        "\n",
        "In this step, we will be building six different types of classification models namely Decision Tree, K-Nearest Neighbors (KNN), Logistic Regression, Support Vector Machine (SVM), Random Forest, and XGBoost. Even though there are many more models which we can use, these are the most popular models used for solving classification problems. All these models can be built feasibly using the algorithms provided by the scikit-learn package. Only for the XGBoost model, we are going to use the xgboost package. Let’s implement these models in python and keep it in mind that the algorithms used might take time to get implemented."
      ],
      "metadata": {
        "id": "T_Y5izbRGUOq"
      },
      "id": "T_Y5izbRGUOq"
    },
    {
      "cell_type": "code",
      "source": [
        "#Python Implementation:\n"
      ],
      "metadata": {
        "id": "p1W0nXLBGqkk"
      },
      "id": "p1W0nXLBGqkk",
      "execution_count": null,
      "outputs": []
    },
    {
      "cell_type": "code",
      "source": [
        "#Data Modelling\n",
        "\n",
        "#1. Decision Tree\n",
        "TM=DecisionTreeClassifier(max_depth=4,criterion='entropy')\n",
        "TM.fit(X_train,y_train)\n",
        "TM_pred=TM.predict(X_test)\n",
        "\n"
      ],
      "metadata": {
        "id": "qfjkb8J7Gqn4"
      },
      "id": "qfjkb8J7Gqn4",
      "execution_count": null,
      "outputs": []
    },
    {
      "cell_type": "code",
      "source": [
        "#2 K_Nearest Neighbors\n",
        "\n",
        "n=5\n",
        "knn=KNeighborsClassifier(n_neighbors=n)\n",
        "knn.fit(X_train,y_train)\n",
        "knn_pred=knn.predict(X_test)\n",
        "\n",
        "\n",
        "\n"
      ],
      "metadata": {
        "id": "bm3F65k9U2ap"
      },
      "id": "bm3F65k9U2ap",
      "execution_count": null,
      "outputs": []
    },
    {
      "cell_type": "code",
      "source": [
        "#3. Logistic Regression\n",
        "lr=LogisticRegression()\n",
        "lr.fit(X_train,y_train)\n",
        "lr_pred=lr.predict(X_test)\n",
        "\n"
      ],
      "metadata": {
        "id": "8Lq30SHJU4mn"
      },
      "id": "8Lq30SHJU4mn",
      "execution_count": null,
      "outputs": []
    },
    {
      "cell_type": "code",
      "source": [
        "#4. SVM\n",
        "svm=SVC()\n",
        "svm.fit(X_train,y_train)\n",
        "svm_pred=svm.predict(X_test)\n",
        "\n"
      ],
      "metadata": {
        "id": "bbN8Ey1AU62F"
      },
      "id": "bbN8Ey1AU62F",
      "execution_count": null,
      "outputs": []
    },
    {
      "cell_type": "code",
      "source": [
        "#5.Random Forest Tree\n",
        "rf= RandomForestClassifier(max_depth=4)\n",
        "rf.fit(X_train,y_train)\n",
        "rf_pred=rf.predict(X_test)\n"
      ],
      "metadata": {
        "id": "Jem4VgCXU8iR"
      },
      "id": "Jem4VgCXU8iR",
      "execution_count": null,
      "outputs": []
    },
    {
      "cell_type": "code",
      "source": [
        "\n",
        "#6. XGBoost\n",
        "xgb=XGBClassifier(max_depth=4)\n",
        "xgb.fit(X_train,y_train)\n",
        "xgb_pred=xgb.predict(X_test)"
      ],
      "metadata": {
        "id": "ypnJRzvcU-Zm"
      },
      "id": "ypnJRzvcU-Zm",
      "execution_count": null,
      "outputs": []
    },
    {
      "cell_type": "markdown",
      "source": [
        "In the above code, we have built six different types of classification models starting from the Decision tree model to the XGBoost model. \n",
        "\n",
        "Now let’s breakdown the code.\n",
        "\n",
        "Starting with the decision tree, we have used the ‘DecisionTreeClassifier’ algorithm to build the model. Inside the algorithm, we have mentioned the ‘max_depth’ to be ‘4’ which means we are allowing the tree to split four times and the ‘criterion’ to be ‘entropy’ which is most similar to the ‘max_depth’ but determines when to stop splitting the tree. Finally, we have fitted and stored the predicted values into the ‘tree_yhat’ variable.\n",
        "\n",
        "Next is the K-Nearest Neighbors (KNN). We have built the model using the ‘KNeighborsClassifier’ algorithm and mentioned the ‘n_neighbors’ to be ‘5’. The value of the ‘n_neighbors’ is randomly selected but can be chosen optimistically through iterating a range of values, followed by fitting and storing the predicted values into the ‘knn_pred’ variable.\n",
        "\n",
        "There is nothing much to explain about the code for Logistic regression as we kept the model in a way more simplistic manner by using the ‘LogisticRegression’ algorithm and as usual, fitted and stored the predicted variables in the ‘lr_pred’ variable.\n",
        "\n",
        "We built the Support Vector Machine model using the ‘SVC’ algorithm and we didn’t mention anything inside the algorithm as we managed to use the default kernel which is the ‘rbf’ kernel. After that, we stored the predicted values into the ‘svm_pred’ after fitting the model.\n",
        "\n",
        "The next model is the Random forest model which we built using the ‘RandomForestClassifier’ algorithm and we mentioned the ‘max_depth’ to be 4 just like how we did to build the decision tree model. \n",
        "\n",
        "Finally, fitting and storing the values into the ‘rf_pred’. Remember that the main difference between the decision tree and the random forest is that, decision tree uses the entire dataset to construct a single model whereas, the random forest uses randomly selected features to construct multiple models. That’s the reason why the random forest model is used versus a decision tree.\n",
        "\n",
        "Our final model is the XGBoost model. We built the model using the ‘XGBClassifier’ algorithm provided by the xgboost package. We mentioned the ‘max_depth’ to be 4 and finally, fitted and stored the predicted values into the ‘xgb_pred’.\n",
        "With that, we have successfully built our six types of classification models and interpreted the code for easy understanding. Our next step is to evaluate each of the models and find which is the most suitable one for our case.\n",
        "\n",
        "Evaluation\n",
        "\n",
        "As I said before, in this process we are going to evaluate our built models using the evaluation metrics provided by the scikit-learn package. Our main objective in this process is to find the best model for our given case. The evaluation metrics we are going to use are the accuracy score metric, f1 score metric, and finally the confusion matrix.\n",
        "1. Accuracy score\n",
        "\n",
        "Accuracy score is one of the most basic evaluation metrics which is widely used to evaluate classification models. The accuracy score is calculated simply by dividing the number of correct predictions made by the model by the total number of predictions made by the model (can be multiplied by 100 to transform the result into a percentage). It can generally be expressed as:\n",
        "Accuracy score = No.of correct predictions / Total no.of predictions\n",
        "Let’s check the accuracy score of the six different classification models we built. To do it in python, we can use the ‘accuracy_score’ method provided by the scikit-learn package."
      ],
      "metadata": {
        "id": "yudnOCc2Jwdz"
      },
      "id": "yudnOCc2Jwdz"
    },
    {
      "cell_type": "code",
      "source": [
        "#1. Accuracy Score\n",
        "print('ACCURACY SCORE')\n",
        "print('-----------------------------------------------------')\n",
        "print('Accuracy Score of the Decision Tree MOdel is {}'.format(accuracy_score(y_test,TM_pred)))\n",
        "print('-----------------------------------------------------')\n",
        "print('Accuracy Score of the KNN MOdel is {}'.format(accuracy_score(y_test,knn_pred)))\n",
        "print('-----------------------------------------------------')\n",
        "print('Accuracy Score of the Logistic Regression MOdel is {}'.format(accuracy_score(y_test,lr_pred)))\n",
        "print('-----------------------------------------------------')\n",
        "print('Accuracy Score of the SVM MOdel is {}'.format(accuracy_score(y_test,svm_pred)))\n",
        "print('-----------------------------------------------------')\n",
        "print('Accuracy Score of the Random Forest Tree MOdel is {}'.format(accuracy_score(y_test,rf_pred)))\n",
        "print('-----------------------------------------------------')\n",
        "print('Accuracy Score of the XG Boost MOdel is {}'.format(accuracy_score(y_test,xgb_pred)))\n",
        "print('-----------------------------------------------------')"
      ],
      "metadata": {
        "id": "yYAPEIQGKbTA"
      },
      "id": "yYAPEIQGKbTA",
      "execution_count": null,
      "outputs": []
    },
    {
      "cell_type": "markdown",
      "source": [
        "According to the accuracy score evaluation metric, the KNN model reveals to be the most accurate model and the Logistic regression model to be the least accurate model. However, when we round up the results of each model, it shows 0.99 (99% accurate) which is a very good score."
      ],
      "metadata": {
        "id": "e-mhoInPO3e-"
      },
      "id": "e-mhoInPO3e-"
    },
    {
      "cell_type": "markdown",
      "source": [
        "2. F1 Score\n",
        "\n",
        "The F1 score or F-score is one of the most popular evaluation metrics used for evaluating classification models. It can be simply defined as the harmonic mean of the model’s precision and recall. It is calculated by dividing the product of the model’s precision and recall by the value obtained on adding the model’s precision and recall and finally multiplying the result with \n",
        "\n",
        "2. It can be expressed as:\n",
        "F1 score = 2( (precision * recall) / (precision + recall) )\n",
        "\n",
        "The F1 score can be calculated easily in python using the ‘f1_score’ method provided by the scikit-learn package."
      ],
      "metadata": {
        "id": "JsFHmm8cPaTO"
      },
      "id": "JsFHmm8cPaTO"
    },
    {
      "cell_type": "code",
      "source": [
        "#Python Implementation"
      ],
      "metadata": {
        "id": "DD8mO1tZOqJO"
      },
      "id": "DD8mO1tZOqJO",
      "execution_count": null,
      "outputs": []
    },
    {
      "cell_type": "code",
      "source": [
        "#2. F1 Score\n",
        "print('F1 SCORE')\n",
        "print('-------------------------------------------------')\n",
        "print('F1 score of the Decision Tree Model is {}.format(f1_score(y_test,TM_pred')))\n",
        "print('-------------------------------------------------')\n",
        "print('F1 score of the KNN Model is {}.format(f1_score(y_test,knn_pred')))\n",
        "print('-------------------------------------------------')\n",
        "print('F1 score of the Logistic Regression  Model is {}.format(f1_score(y_test,lr_pred')))\n",
        "print('-------------------------------------------------')\n",
        "print('F1 score of the SVM Model is {}.format(f1_score(y_test,svm_pred')))\n",
        "print('-------------------------------------------------')\n",
        "print('F1 score of the Random Forest Model is {}.format(f1_score(y_test,rf_pred')))\n",
        "print('-------------------------------------------------')\n",
        "print('F1 score of the XG BOOST Model is {}.format(f1_score(y_test,xgb_pred')))\n",
        "print('-------------------------------------------------')"
      ],
      "metadata": {
        "id": "omZ0WS5-Oqvm"
      },
      "id": "omZ0WS5-Oqvm",
      "execution_count": null,
      "outputs": []
    },
    {
      "cell_type": "markdown",
      "source": [
        "The ranking of the models is almost similar to the previous evaluation metric. On basis of the F1 score evaluation metric, the KNN model snatches the first place again and the Logistic regression model remains to be the least accurate model."
      ],
      "metadata": {
        "id": "RWAx04c1RCRp"
      },
      "id": "RWAx04c1RCRp"
    },
    {
      "cell_type": "markdown",
      "source": [
        "3. Confusion Matrix\n",
        "\n",
        "Typically, a confusion matrix is a visualization of a classification model that shows how well the model has predicted the outcomes when compared to the original ones. Usually, the predicted outcomes are stored in a variable that is then converted into a correlation table. Using the correlation table, the confusion matrix is plotted in the form of a heatmap. Even though there are several built-in methods to visualize a confusion matrix, we are going to define and visualize it from scratch for better understanding. Let’s do it in python!"
      ],
      "metadata": {
        "id": "YzMyWH4MRD-p"
      },
      "id": "YzMyWH4MRD-p"
    },
    {
      "cell_type": "code",
      "source": [
        "#3. Confusion MAtrix\n",
        "#Defining the plot function\n",
        "def plot_confusion_matrix(cm,classes,title,normalize=False,cmap=plt.cm.Blues):\n",
        "  title=\"Confusion Matrix of {}\".format(title)\n",
        "\n",
        "  if normalize:\n",
        "    cm=cm.astype(float)/cf.sum(axis=1)[:, np.newaxis]\n",
        "\n",
        "    plt.imshow(cm,interpolation='nearest',cmap=cmap)\n",
        "    plt.title(title)\n",
        "    plt.colorbar()\n",
        "    ticks_marks=np.arange(len(classes))\n",
        "    plt.xticks(tick_marks,classes,rotation=45)\n",
        "    plt.yticks(tick_marks,classes)\n"
      ],
      "metadata": {
        "id": "X9a4G1zHQ8wU"
      },
      "id": "X9a4G1zHQ8wU",
      "execution_count": null,
      "outputs": []
    },
    {
      "cell_type": "code",
      "source": [
        "\n",
        "# 3. Confusion Matrix\n",
        "\n",
        "# defining the plot function\n",
        "\n",
        "def plot_confusion_matrix(cm, classes, title, normalize = False, cmap = plt.cm.Blues):\n",
        "    title = 'Confusion Matrix of {}'.format(title)\n",
        "    if normalize:\n",
        "        cm = cm.astype(float) / cm.sum(axis=1)[:, np.newaxis]\n",
        "\n",
        "    plt.imshow(cm, interpolation = 'nearest', cmap = cmap)\n",
        "    plt.title(title)\n",
        "    plt.colorbar()\n",
        "    tick_marks = np.arange(len(classes))\n",
        "    plt.xticks(tick_marks, classes, rotation = 45)\n",
        "    plt.yticks(tick_marks, classes)\n",
        "\n",
        "    fmt = '.2f' if normalize else 'd'\n",
        "    thresh = cm.max() / 2.\n",
        "    for i, j in itertools.product(range(cm.shape[0]), range(cm.shape[1])):\n",
        "        plt.text(j, i, format(cm[i, j], fmt),\n",
        "                 horizontalalignment = 'center',\n",
        "                 color = 'white' if cm[i, j] > thresh else 'black')\n",
        "\n",
        "    plt.tight_layout()\n",
        "    plt.ylabel('True label')\n",
        "    plt.xlabel('Predicted label')\n",
        "\n",
        "# Compute confusion matrix for the models\n",
        "\n",
        "tree_matrix = confusion_matrix(y_test, TM_pred, labels = [0, 1]) # Decision Tree\n",
        "knn_matrix = confusion_matrix(y_test, knn_pred, labels = [0, 1]) # K-Nearest Neighbors\n",
        "lr_matrix = confusion_matrix(y_test, lr_pred, labels = [0, 1]) # Logistic Regression\n",
        "svm_matrix = confusion_matrix(y_test, svm_pred, labels = [0, 1]) # Support Vector Machine\n",
        "rf_matrix = confusion_matrix(y_test, rf_pred, labels = [0, 1]) # Random Forest Tree\n",
        "xgb_matrix = confusion_matrix(y_test, xgb_pred, labels = [0, 1]) # XGBoost\n",
        "\n",
        "# Plot the confusion matrix\n",
        "\n",
        "plt.rcParams['figure.figsize'] = (6, 6)\n",
        "\n",
        "# 1. Decision tree\n",
        "\n",
        "tree_cm_plot = plot_confusion_matrix(tree_matrix, \n",
        "                                classes = ['Non-Default(0)','Default(1)'], \n",
        "                                normalize = False, title = 'Decision Tree')\n",
        "plt.savefig('tree_cm_plot.png')\n",
        "plt.show()\n",
        "\n",
        "# 2. K-Nearest Neighbors\n",
        "\n",
        "knn_cm_plot = plot_confusion_matrix(knn_matrix, \n",
        "                                classes = ['Non-Default(0)','Default(1)'], \n",
        "                                normalize = False, title = 'KNN')\n",
        "plt.savefig('knn_cm_plot.png')\n",
        "plt.show()\n",
        "\n",
        "# 3. Logistic regression\n",
        "\n",
        "lr_cm_plot = plot_confusion_matrix(lr_matrix, \n",
        "                                classes = ['Non-Default(0)','Default(1)'], \n",
        "                                normalize = False, title = 'Logistic Regression')\n",
        "plt.savefig('lr_cm_plot.png')\n",
        "plt.show()\n",
        "\n",
        "# 4. Support Vector Machine\n",
        "\n",
        "svm_cm_plot = plot_confusion_matrix(svm_matrix, \n",
        "                                classes = ['Non-Default(0)','Default(1)'], \n",
        "                                normalize = False, title = 'SVM')\n",
        "plt.savefig('svm_cm_plot.png')\n",
        "plt.show()\n",
        "\n",
        "# 5. Random forest tree\n",
        "\n",
        "rf_cm_plot = plot_confusion_matrix(rf_matrix, \n",
        "                                classes = ['Non-Default(0)','Default(1)'], \n",
        "                                normalize = False, title = 'Random Forest Tree')\n",
        "plt.savefig('rf_cm_plot.png')\n",
        "plt.show()\n",
        "\n",
        "# 6. XGBoost\n",
        "\n",
        "xgb_cm_plot = plot_confusion_matrix(xgb_matrix, \n",
        "                                classes = ['Non-Default(0)','Default(1)'], \n",
        "                                normalize = False, title = 'XGBoost')\n",
        "plt.savefig('xgb_cm_plot.png')\n",
        "plt.show()\n"
      ],
      "metadata": {
        "id": "9RtDmVvTQ8zn"
      },
      "id": "9RtDmVvTQ8zn",
      "execution_count": null,
      "outputs": []
    }
  ],
  "metadata": {
    "colab": {
      "collapsed_sections": [],
      "name": "Prediction Model- Anomaly Detection Final .ipynb",
      "provenance": []
    },
    "kernelspec": {
      "display_name": "SHMTENV",
      "language": "python",
      "name": "shmtenv"
    },
    "language_info": {
      "codemirror_mode": {
        "name": "ipython",
        "version": 3
      },
      "file_extension": ".py",
      "mimetype": "text/x-python",
      "name": "python",
      "nbconvert_exporter": "python",
      "pygments_lexer": "ipython3",
      "version": "3.8.11"
    }
  },
  "nbformat": 4,
  "nbformat_minor": 5
}